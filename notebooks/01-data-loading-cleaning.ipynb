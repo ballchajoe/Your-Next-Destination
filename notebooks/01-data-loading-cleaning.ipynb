{
 "cells": [
  {
   "cell_type": "markdown",
   "id": "b4b4b0a8",
   "metadata": {},
   "source": [
    "## Data Loading and Cleaning"
   ]
  },
  {
   "cell_type": "markdown",
   "id": "e4141995",
   "metadata": {},
   "source": [
    "### Table of Contents\n",
    "- Introduction\n",
    "- Import and Load Raw Data\n",
    "- Data Cleaning\n",
    "- Conclusion\n",
    "- Export Files"
   ]
  },
  {
   "cell_type": "markdown",
   "id": "e079d304",
   "metadata": {},
   "source": [
    "### Introduction\n",
    "\n",
    "This notebook is to gather the input data, clean the data, and export a dataset for exploratory data analysis (EDA). The initial dataset was downloaded from the Bureau of Transportation Statistics website, specifically the database of international direct flights with arrival to or departure from United States. A selection of fields were available and the fields that I thought would be useful for this project were chosen. At the time of starting this project, records from January 1990 to May 2024 were available, however, for this project I decided to evaluate the last decade from Jan 2013 to May 2024. Let's load in the data and get to cleaning."
   ]
  },
  {
   "cell_type": "markdown",
   "id": "d4dcd64c",
   "metadata": {},
   "source": [
    "### Import and Load Raw Data"
   ]
  },
  {
   "cell_type": "markdown",
   "id": "f89036ef",
   "metadata": {},
   "source": [
    "First things first, import the necessary libraries."
   ]
  },
  {
   "cell_type": "code",
   "execution_count": 1,
   "id": "f987bf0f-9aef-45e8-ab6e-47ccadecf983",
   "metadata": {},
   "outputs": [],
   "source": [
    "# import libraries\n",
    "import numpy as np\n",
    "import pandas as pd\n",
    "import glob"
   ]
  },
  {
   "cell_type": "markdown",
   "id": "634e2ae6",
   "metadata": {},
   "source": [
    "Since each year of the database were downloaded as an individual file, we will use the `glob` function to compile the files into one variable."
   ]
  },
  {
   "cell_type": "code",
   "execution_count": 2,
   "id": "2e2a2902-aa59-403b-b7f0-557b1aefc6e5",
   "metadata": {},
   "outputs": [
    {
     "data": {
      "text/plain": [
       "['../data\\\\2013.csv',\n",
       " '../data\\\\2014.csv',\n",
       " '../data\\\\2015.csv',\n",
       " '../data\\\\2016.csv',\n",
       " '../data\\\\2017.csv',\n",
       " '../data\\\\2018.csv',\n",
       " '../data\\\\2019.csv',\n",
       " '../data\\\\2020.csv',\n",
       " '../data\\\\2021.csv',\n",
       " '../data\\\\2022.csv',\n",
       " '../data\\\\2023.csv',\n",
       " '../data\\\\2024.csv']"
      ]
     },
     "execution_count": 2,
     "metadata": {},
     "output_type": "execute_result"
    }
   ],
   "source": [
    "# compile the data files\n",
    "file_paths = glob.glob('../data/20*')\n",
    "file_paths"
   ]
  },
  {
   "cell_type": "markdown",
   "id": "6356f958",
   "metadata": {},
   "source": [
    "Now that the files are loaded into one variable, it can be easily read in using the function `pd.read_cvs` with a for loop and then converted into a pandas dataframe."
   ]
  },
  {
   "cell_type": "code",
   "execution_count": 3,
   "id": "0acf92a2-3dfe-4932-a978-bae0240ee9a4",
   "metadata": {},
   "outputs": [],
   "source": [
    "# combine data files into one dataframe\n",
    "df = pd.DataFrame()\n",
    "\n",
    "# loop thru the csv files to combine them into one dataframe\n",
    "for file in file_paths:\n",
    "    df_air = pd.read_csv(file, index_col=0)\n",
    "    df = pd.concat([df,df_air])\n",
    "\n",
    "df = df.reset_index()"
   ]
  },
  {
   "cell_type": "markdown",
   "id": "647d2216",
   "metadata": {},
   "source": [
    "Let's take a look at the newly created dataframe."
   ]
  },
  {
   "cell_type": "code",
   "execution_count": 10,
   "id": "68d3d534-0d07-435d-b60a-e8ece6eaaa6d",
   "metadata": {},
   "outputs": [
    {
     "data": {
      "text/html": [
       "<div>\n",
       "<style scoped>\n",
       "    .dataframe tbody tr th:only-of-type {\n",
       "        vertical-align: middle;\n",
       "    }\n",
       "\n",
       "    .dataframe tbody tr th {\n",
       "        vertical-align: top;\n",
       "    }\n",
       "\n",
       "    .dataframe thead th {\n",
       "        text-align: right;\n",
       "    }\n",
       "</style>\n",
       "<table border=\"1\" class=\"dataframe\">\n",
       "  <thead>\n",
       "    <tr style=\"text-align: right;\">\n",
       "      <th></th>\n",
       "      <th>DEPARTURES_PERFORMED</th>\n",
       "      <th>SEATS</th>\n",
       "      <th>PASSENGERS</th>\n",
       "      <th>CARRIER</th>\n",
       "      <th>CARRIER_NAME</th>\n",
       "      <th>ORIGIN_AIRPORT_ID</th>\n",
       "      <th>ORIGIN_CITY_NAME</th>\n",
       "      <th>ORIGIN_COUNTRY_NAME</th>\n",
       "      <th>DEST_AIRPORT_ID</th>\n",
       "      <th>DEST_CITY_NAME</th>\n",
       "      <th>DEST_COUNTRY_NAME</th>\n",
       "      <th>YEAR</th>\n",
       "      <th>MONTH</th>\n",
       "      <th>DATE</th>\n",
       "    </tr>\n",
       "  </thead>\n",
       "  <tbody>\n",
       "    <tr>\n",
       "      <th>0</th>\n",
       "      <td>0.0</td>\n",
       "      <td>0.0</td>\n",
       "      <td>0.0</td>\n",
       "      <td>3M</td>\n",
       "      <td>Silver Airways</td>\n",
       "      <td>11624</td>\n",
       "      <td>Key West, FL</td>\n",
       "      <td>United States</td>\n",
       "      <td>11534</td>\n",
       "      <td>North Eleuthera, The Bahamas</td>\n",
       "      <td>The Bahamas</td>\n",
       "      <td>2013</td>\n",
       "      <td>10</td>\n",
       "      <td>2013-10-01</td>\n",
       "    </tr>\n",
       "    <tr>\n",
       "      <th>1</th>\n",
       "      <td>0.0</td>\n",
       "      <td>0.0</td>\n",
       "      <td>0.0</td>\n",
       "      <td>3M</td>\n",
       "      <td>Silver Airways</td>\n",
       "      <td>11624</td>\n",
       "      <td>Key West, FL</td>\n",
       "      <td>United States</td>\n",
       "      <td>11534</td>\n",
       "      <td>North Eleuthera, The Bahamas</td>\n",
       "      <td>The Bahamas</td>\n",
       "      <td>2013</td>\n",
       "      <td>11</td>\n",
       "      <td>2013-11-01</td>\n",
       "    </tr>\n",
       "    <tr>\n",
       "      <th>2</th>\n",
       "      <td>0.0</td>\n",
       "      <td>0.0</td>\n",
       "      <td>0.0</td>\n",
       "      <td>3M</td>\n",
       "      <td>Silver Airways</td>\n",
       "      <td>13289</td>\n",
       "      <td>Marsh Harbour, The Bahamas</td>\n",
       "      <td>The Bahamas</td>\n",
       "      <td>15304</td>\n",
       "      <td>Tampa, FL</td>\n",
       "      <td>United States</td>\n",
       "      <td>2013</td>\n",
       "      <td>2</td>\n",
       "      <td>2013-02-01</td>\n",
       "    </tr>\n",
       "    <tr>\n",
       "      <th>3</th>\n",
       "      <td>0.0</td>\n",
       "      <td>0.0</td>\n",
       "      <td>0.0</td>\n",
       "      <td>3M</td>\n",
       "      <td>Silver Airways</td>\n",
       "      <td>15304</td>\n",
       "      <td>Tampa, FL</td>\n",
       "      <td>United States</td>\n",
       "      <td>11534</td>\n",
       "      <td>North Eleuthera, The Bahamas</td>\n",
       "      <td>The Bahamas</td>\n",
       "      <td>2013</td>\n",
       "      <td>2</td>\n",
       "      <td>2013-02-01</td>\n",
       "    </tr>\n",
       "    <tr>\n",
       "      <th>4</th>\n",
       "      <td>0.0</td>\n",
       "      <td>0.0</td>\n",
       "      <td>0.0</td>\n",
       "      <td>3M</td>\n",
       "      <td>Silver Airways</td>\n",
       "      <td>15304</td>\n",
       "      <td>Tampa, FL</td>\n",
       "      <td>United States</td>\n",
       "      <td>11534</td>\n",
       "      <td>North Eleuthera, The Bahamas</td>\n",
       "      <td>The Bahamas</td>\n",
       "      <td>2013</td>\n",
       "      <td>10</td>\n",
       "      <td>2013-10-01</td>\n",
       "    </tr>\n",
       "  </tbody>\n",
       "</table>\n",
       "</div>"
      ],
      "text/plain": [
       "   DEPARTURES_PERFORMED  SEATS  PASSENGERS CARRIER    CARRIER_NAME  \\\n",
       "0                   0.0    0.0         0.0      3M  Silver Airways   \n",
       "1                   0.0    0.0         0.0      3M  Silver Airways   \n",
       "2                   0.0    0.0         0.0      3M  Silver Airways   \n",
       "3                   0.0    0.0         0.0      3M  Silver Airways   \n",
       "4                   0.0    0.0         0.0      3M  Silver Airways   \n",
       "\n",
       "   ORIGIN_AIRPORT_ID            ORIGIN_CITY_NAME ORIGIN_COUNTRY_NAME  \\\n",
       "0              11624                Key West, FL       United States   \n",
       "1              11624                Key West, FL       United States   \n",
       "2              13289  Marsh Harbour, The Bahamas         The Bahamas   \n",
       "3              15304                   Tampa, FL       United States   \n",
       "4              15304                   Tampa, FL       United States   \n",
       "\n",
       "   DEST_AIRPORT_ID                DEST_CITY_NAME DEST_COUNTRY_NAME  YEAR  \\\n",
       "0            11534  North Eleuthera, The Bahamas       The Bahamas  2013   \n",
       "1            11534  North Eleuthera, The Bahamas       The Bahamas  2013   \n",
       "2            15304                     Tampa, FL     United States  2013   \n",
       "3            11534  North Eleuthera, The Bahamas       The Bahamas  2013   \n",
       "4            11534  North Eleuthera, The Bahamas       The Bahamas  2013   \n",
       "\n",
       "   MONTH       DATE  \n",
       "0     10 2013-10-01  \n",
       "1     11 2013-11-01  \n",
       "2      2 2013-02-01  \n",
       "3      2 2013-02-01  \n",
       "4     10 2013-10-01  "
      ]
     },
     "execution_count": 10,
     "metadata": {},
     "output_type": "execute_result"
    }
   ],
   "source": [
    "# check the first few rows\n",
    "df.head()"
   ]
  },
  {
   "cell_type": "code",
   "execution_count": 4,
   "id": "c86c560d-9771-4de0-8927-5495ab3c3e84",
   "metadata": {},
   "outputs": [
    {
     "name": "stdout",
     "output_type": "stream",
     "text": [
      "<class 'pandas.core.frame.DataFrame'>\n",
      "RangeIndex: 978570 entries, 0 to 978569\n",
      "Data columns (total 13 columns):\n",
      " #   Column                Non-Null Count   Dtype  \n",
      "---  ------                --------------   -----  \n",
      " 0   DEPARTURES_PERFORMED  978570 non-null  float64\n",
      " 1   SEATS                 978570 non-null  float64\n",
      " 2   PASSENGERS            978570 non-null  float64\n",
      " 3   CARRIER               978478 non-null  object \n",
      " 4   CARRIER_NAME          978395 non-null  object \n",
      " 5   ORIGIN_AIRPORT_ID     978570 non-null  int64  \n",
      " 6   ORIGIN_CITY_NAME      978169 non-null  object \n",
      " 7   ORIGIN_COUNTRY_NAME   978169 non-null  object \n",
      " 8   DEST_AIRPORT_ID       978570 non-null  int64  \n",
      " 9   DEST_CITY_NAME        978170 non-null  object \n",
      " 10  DEST_COUNTRY_NAME     978170 non-null  object \n",
      " 11  YEAR                  978570 non-null  int64  \n",
      " 12  MONTH                 978570 non-null  int64  \n",
      "dtypes: float64(3), int64(4), object(6)\n",
      "memory usage: 97.1+ MB\n"
     ]
    }
   ],
   "source": [
    "# an informational look at the dataframe\n",
    "df.info()"
   ]
  },
  {
   "cell_type": "markdown",
   "id": "c3039a17",
   "metadata": {},
   "source": [
    "There are 978,570 entries and it looks like some of the columns such as `CARRIER_NAME` are missing data. Also, the dataframe seems to be not sorted by date. We will deal with the missing values and order, but first let's take a look at the data types. <br>\n",
    "As expected, there's a mix of number and object (text) data types in the dataframe. As this will be a time series model, the `YEAR` and `MONTH` columns can be combined to make a new `DATE` column as datetime data type."
   ]
  },
  {
   "cell_type": "code",
   "execution_count": 5,
   "id": "193677a7-4a9a-411c-941e-a2bfc56a0c01",
   "metadata": {},
   "outputs": [],
   "source": [
    "# convert to datetime datatype\n",
    "df['DATE'] = pd.to_datetime(df[['YEAR', 'MONTH']].assign(DAY=1))"
   ]
  },
  {
   "cell_type": "code",
   "execution_count": 6,
   "id": "8f7099a7",
   "metadata": {},
   "outputs": [
    {
     "data": {
      "text/html": [
       "<div>\n",
       "<style scoped>\n",
       "    .dataframe tbody tr th:only-of-type {\n",
       "        vertical-align: middle;\n",
       "    }\n",
       "\n",
       "    .dataframe tbody tr th {\n",
       "        vertical-align: top;\n",
       "    }\n",
       "\n",
       "    .dataframe thead th {\n",
       "        text-align: right;\n",
       "    }\n",
       "</style>\n",
       "<table border=\"1\" class=\"dataframe\">\n",
       "  <thead>\n",
       "    <tr style=\"text-align: right;\">\n",
       "      <th></th>\n",
       "      <th>DEPARTURES_PERFORMED</th>\n",
       "      <th>SEATS</th>\n",
       "      <th>PASSENGERS</th>\n",
       "      <th>CARRIER</th>\n",
       "      <th>CARRIER_NAME</th>\n",
       "      <th>ORIGIN_AIRPORT_ID</th>\n",
       "      <th>ORIGIN_CITY_NAME</th>\n",
       "      <th>ORIGIN_COUNTRY_NAME</th>\n",
       "      <th>DEST_AIRPORT_ID</th>\n",
       "      <th>DEST_CITY_NAME</th>\n",
       "      <th>DEST_COUNTRY_NAME</th>\n",
       "      <th>YEAR</th>\n",
       "      <th>MONTH</th>\n",
       "      <th>DATE</th>\n",
       "    </tr>\n",
       "  </thead>\n",
       "  <tbody>\n",
       "    <tr>\n",
       "      <th>0</th>\n",
       "      <td>0.0</td>\n",
       "      <td>0.0</td>\n",
       "      <td>0.0</td>\n",
       "      <td>3M</td>\n",
       "      <td>Silver Airways</td>\n",
       "      <td>11624</td>\n",
       "      <td>Key West, FL</td>\n",
       "      <td>United States</td>\n",
       "      <td>11534</td>\n",
       "      <td>North Eleuthera, The Bahamas</td>\n",
       "      <td>The Bahamas</td>\n",
       "      <td>2013</td>\n",
       "      <td>10</td>\n",
       "      <td>2013-10-01</td>\n",
       "    </tr>\n",
       "    <tr>\n",
       "      <th>1</th>\n",
       "      <td>0.0</td>\n",
       "      <td>0.0</td>\n",
       "      <td>0.0</td>\n",
       "      <td>3M</td>\n",
       "      <td>Silver Airways</td>\n",
       "      <td>11624</td>\n",
       "      <td>Key West, FL</td>\n",
       "      <td>United States</td>\n",
       "      <td>11534</td>\n",
       "      <td>North Eleuthera, The Bahamas</td>\n",
       "      <td>The Bahamas</td>\n",
       "      <td>2013</td>\n",
       "      <td>11</td>\n",
       "      <td>2013-11-01</td>\n",
       "    </tr>\n",
       "    <tr>\n",
       "      <th>2</th>\n",
       "      <td>0.0</td>\n",
       "      <td>0.0</td>\n",
       "      <td>0.0</td>\n",
       "      <td>3M</td>\n",
       "      <td>Silver Airways</td>\n",
       "      <td>13289</td>\n",
       "      <td>Marsh Harbour, The Bahamas</td>\n",
       "      <td>The Bahamas</td>\n",
       "      <td>15304</td>\n",
       "      <td>Tampa, FL</td>\n",
       "      <td>United States</td>\n",
       "      <td>2013</td>\n",
       "      <td>2</td>\n",
       "      <td>2013-02-01</td>\n",
       "    </tr>\n",
       "    <tr>\n",
       "      <th>3</th>\n",
       "      <td>0.0</td>\n",
       "      <td>0.0</td>\n",
       "      <td>0.0</td>\n",
       "      <td>3M</td>\n",
       "      <td>Silver Airways</td>\n",
       "      <td>15304</td>\n",
       "      <td>Tampa, FL</td>\n",
       "      <td>United States</td>\n",
       "      <td>11534</td>\n",
       "      <td>North Eleuthera, The Bahamas</td>\n",
       "      <td>The Bahamas</td>\n",
       "      <td>2013</td>\n",
       "      <td>2</td>\n",
       "      <td>2013-02-01</td>\n",
       "    </tr>\n",
       "    <tr>\n",
       "      <th>4</th>\n",
       "      <td>0.0</td>\n",
       "      <td>0.0</td>\n",
       "      <td>0.0</td>\n",
       "      <td>3M</td>\n",
       "      <td>Silver Airways</td>\n",
       "      <td>15304</td>\n",
       "      <td>Tampa, FL</td>\n",
       "      <td>United States</td>\n",
       "      <td>11534</td>\n",
       "      <td>North Eleuthera, The Bahamas</td>\n",
       "      <td>The Bahamas</td>\n",
       "      <td>2013</td>\n",
       "      <td>10</td>\n",
       "      <td>2013-10-01</td>\n",
       "    </tr>\n",
       "  </tbody>\n",
       "</table>\n",
       "</div>"
      ],
      "text/plain": [
       "   DEPARTURES_PERFORMED  SEATS  PASSENGERS CARRIER    CARRIER_NAME  \\\n",
       "0                   0.0    0.0         0.0      3M  Silver Airways   \n",
       "1                   0.0    0.0         0.0      3M  Silver Airways   \n",
       "2                   0.0    0.0         0.0      3M  Silver Airways   \n",
       "3                   0.0    0.0         0.0      3M  Silver Airways   \n",
       "4                   0.0    0.0         0.0      3M  Silver Airways   \n",
       "\n",
       "   ORIGIN_AIRPORT_ID            ORIGIN_CITY_NAME ORIGIN_COUNTRY_NAME  \\\n",
       "0              11624                Key West, FL       United States   \n",
       "1              11624                Key West, FL       United States   \n",
       "2              13289  Marsh Harbour, The Bahamas         The Bahamas   \n",
       "3              15304                   Tampa, FL       United States   \n",
       "4              15304                   Tampa, FL       United States   \n",
       "\n",
       "   DEST_AIRPORT_ID                DEST_CITY_NAME DEST_COUNTRY_NAME  YEAR  \\\n",
       "0            11534  North Eleuthera, The Bahamas       The Bahamas  2013   \n",
       "1            11534  North Eleuthera, The Bahamas       The Bahamas  2013   \n",
       "2            15304                     Tampa, FL     United States  2013   \n",
       "3            11534  North Eleuthera, The Bahamas       The Bahamas  2013   \n",
       "4            11534  North Eleuthera, The Bahamas       The Bahamas  2013   \n",
       "\n",
       "   MONTH       DATE  \n",
       "0     10 2013-10-01  \n",
       "1     11 2013-11-01  \n",
       "2      2 2013-02-01  \n",
       "3      2 2013-02-01  \n",
       "4     10 2013-10-01  "
      ]
     },
     "execution_count": 6,
     "metadata": {},
     "output_type": "execute_result"
    }
   ],
   "source": [
    "# check that the DATE column is created\n",
    "df.head()"
   ]
  },
  {
   "cell_type": "code",
   "execution_count": 7,
   "id": "419a3c43",
   "metadata": {},
   "outputs": [
    {
     "name": "stdout",
     "output_type": "stream",
     "text": [
      "<class 'pandas.core.frame.DataFrame'>\n",
      "RangeIndex: 978570 entries, 0 to 978569\n",
      "Data columns (total 14 columns):\n",
      " #   Column                Non-Null Count   Dtype         \n",
      "---  ------                --------------   -----         \n",
      " 0   DEPARTURES_PERFORMED  978570 non-null  float64       \n",
      " 1   SEATS                 978570 non-null  float64       \n",
      " 2   PASSENGERS            978570 non-null  float64       \n",
      " 3   CARRIER               978478 non-null  object        \n",
      " 4   CARRIER_NAME          978395 non-null  object        \n",
      " 5   ORIGIN_AIRPORT_ID     978570 non-null  int64         \n",
      " 6   ORIGIN_CITY_NAME      978169 non-null  object        \n",
      " 7   ORIGIN_COUNTRY_NAME   978169 non-null  object        \n",
      " 8   DEST_AIRPORT_ID       978570 non-null  int64         \n",
      " 9   DEST_CITY_NAME        978170 non-null  object        \n",
      " 10  DEST_COUNTRY_NAME     978170 non-null  object        \n",
      " 11  YEAR                  978570 non-null  int64         \n",
      " 12  MONTH                 978570 non-null  int64         \n",
      " 13  DATE                  978570 non-null  datetime64[ns]\n",
      "dtypes: datetime64[ns](1), float64(3), int64(4), object(6)\n",
      "memory usage: 104.5+ MB\n"
     ]
    }
   ],
   "source": [
    "# check the data type of the DATE column\n",
    "df.info()"
   ]
  },
  {
   "cell_type": "markdown",
   "id": "67c685d5",
   "metadata": {},
   "source": [
    "Now that the data is inspected, let's get to data cleaning."
   ]
  },
  {
   "cell_type": "markdown",
   "id": "496a624a-823d-48ff-98a5-608532955448",
   "metadata": {},
   "source": [
    "### Data Cleaning"
   ]
  },
  {
   "cell_type": "markdown",
   "id": "8be3294e",
   "metadata": {},
   "source": [
    "As noted from the initial inspection of the dataframe, we will look at the missing data."
   ]
  },
  {
   "cell_type": "code",
   "execution_count": 16,
   "id": "45aad225",
   "metadata": {},
   "outputs": [
    {
     "data": {
      "text/plain": [
       "DEPARTURES_PERFORMED      0\n",
       "SEATS                     0\n",
       "PASSENGERS                0\n",
       "CARRIER                  92\n",
       "CARRIER_NAME            175\n",
       "ORIGIN_AIRPORT_ID         0\n",
       "ORIGIN_CITY_NAME        401\n",
       "ORIGIN_COUNTRY_NAME     401\n",
       "DEST_AIRPORT_ID           0\n",
       "DEST_CITY_NAME          400\n",
       "DEST_COUNTRY_NAME       400\n",
       "YEAR                      0\n",
       "MONTH                     0\n",
       "DATE                      0\n",
       "dtype: int64"
      ]
     },
     "execution_count": 16,
     "metadata": {},
     "output_type": "execute_result"
    }
   ],
   "source": [
    "# check missing data\n",
    "df.isna().sum()"
   ]
  },
  {
   "cell_type": "code",
   "execution_count": 17,
   "id": "638cbd47-b556-470c-bc51-60b02d6c9e49",
   "metadata": {},
   "outputs": [
    {
     "data": {
      "text/plain": [
       "DEPARTURES_PERFORMED    0.000\n",
       "SEATS                   0.000\n",
       "PASSENGERS              0.000\n",
       "CARRIER                 0.009\n",
       "CARRIER_NAME            0.018\n",
       "ORIGIN_AIRPORT_ID       0.000\n",
       "ORIGIN_CITY_NAME        0.041\n",
       "ORIGIN_COUNTRY_NAME     0.041\n",
       "DEST_AIRPORT_ID         0.000\n",
       "DEST_CITY_NAME          0.041\n",
       "DEST_COUNTRY_NAME       0.041\n",
       "YEAR                    0.000\n",
       "MONTH                   0.000\n",
       "DATE                    0.000\n",
       "dtype: float64"
      ]
     },
     "execution_count": 17,
     "metadata": {},
     "output_type": "execute_result"
    }
   ],
   "source": [
    "# percentage of missing data\n",
    "round(df.isna().mean()*100,3)"
   ]
  },
  {
   "cell_type": "markdown",
   "id": "5ecb3449",
   "metadata": {},
   "source": [
    "Six columns have missing data and for each column a very small percentage, less than 0.050%, is impacted. The missing values (nulls) could be disregared by simply dropping the rows with them, or we can take a look at them and see if they can be easily filled in.<br>\n",
    "We can start with the columns with the biggest percentage since they have equal amount of data missing and so they could be correlated: `ORIGIN_CITY_NAME`, `ORIGIN_COUNTRY_NAME`, `DEST_CITY_NAME`, `DEST_COUNTRY_NAME`"
   ]
  },
  {
   "cell_type": "code",
   "execution_count": 10,
   "id": "af442b1b-d2bc-4039-af7d-65810e364f9b",
   "metadata": {},
   "outputs": [
    {
     "data": {
      "text/plain": [
       "ORIGIN_AIRPORT_ID\n",
       "11369    401\n",
       "Name: count, dtype: int64"
      ]
     },
     "execution_count": 10,
     "metadata": {},
     "output_type": "execute_result"
    }
   ],
   "source": [
    "# check unique null values\n",
    "df['ORIGIN_AIRPORT_ID'][df['ORIGIN_CITY_NAME'].isna()].value_counts()"
   ]
  },
  {
   "cell_type": "code",
   "execution_count": 11,
   "id": "9f50a993-7f9f-4d18-869e-8a07b64f5dbc",
   "metadata": {},
   "outputs": [],
   "source": [
    "# determined from the lookup table 'L_AIRPORT_ID'\n",
    "df.loc[df['ORIGIN_AIRPORT_ID'] == 11369, ['ORIGIN_CITY_NAME','ORIGIN_COUNTRY_NAME']] = ['Doha','Qatar']"
   ]
  },
  {
   "cell_type": "markdown",
   "id": "973f9f0e",
   "metadata": {},
   "source": [
    "We filter for the rows where `ORIGIN_CITY_NAME` are null and since `ORIGIN_AIRPORT_ID` does not have any nulls, we can extract the airport ID for reference. All the null values are associated with airport ID 11369. Using the lookup table 'L_AIRPORT_ID' for reference which can be found in the 'references' folder, airport ID 11369 is Doha, Qatar. The number of nulls for `ORIGIN_CITY_NAME` and `ORIGIN_COUNTRY_NAME` are equal so we can assume Qatar is the missing country name."
   ]
  },
  {
   "cell_type": "code",
   "execution_count": 12,
   "id": "576df906-8264-4594-a4ad-6c199ddb8476",
   "metadata": {},
   "outputs": [
    {
     "data": {
      "text/plain": [
       "DEST_AIRPORT_ID\n",
       "11369    400\n",
       "Name: count, dtype: int64"
      ]
     },
     "execution_count": 12,
     "metadata": {},
     "output_type": "execute_result"
    }
   ],
   "source": [
    "# check unique null values\n",
    "df['DEST_AIRPORT_ID'][df['DEST_CITY_NAME'].isna()].value_counts()"
   ]
  },
  {
   "cell_type": "code",
   "execution_count": 13,
   "id": "8248ddf9-7006-4280-bf28-6e3738335d86",
   "metadata": {},
   "outputs": [],
   "source": [
    "# determined from the lookup table 'L_AIRPORT_ID'\n",
    "df.loc[df['DEST_AIRPORT_ID'] == 11369, ['DEST_CITY_NAME','DEST_COUNTRY_NAME']] = ['Doha','Qatar']"
   ]
  },
  {
   "cell_type": "markdown",
   "id": "e6305358",
   "metadata": {},
   "source": [
    "Same approach is taken for `DEST_CITY_NAME` and `DEST_COUNTRY_NAME` with `DEST_AIRPORT_ID` for reference. Once again Doha, Qatar was the missing piece."
   ]
  },
  {
   "cell_type": "code",
   "execution_count": 14,
   "id": "7fb89dbb-57a7-4f74-9ade-1df1a0feec65",
   "metadata": {},
   "outputs": [
    {
     "data": {
      "text/plain": [
       "CARRIER\n",
       "K8     167\n",
       "2HQ      8\n",
       "Name: count, dtype: int64"
      ]
     },
     "execution_count": 14,
     "metadata": {},
     "output_type": "execute_result"
    }
   ],
   "source": [
    "# check unique null values\n",
    "df['CARRIER'][df['CARRIER_NAME'].isna()].value_counts()"
   ]
  },
  {
   "cell_type": "code",
   "execution_count": 15,
   "id": "c291c04c-3b2d-4f89-b05e-2b0e95fa1ca8",
   "metadata": {},
   "outputs": [],
   "source": [
    "# determined from the lookup table 'L_CARRIER_HISTORY'\n",
    "df.loc[df['CARRIER'] == 'K8', ['CARRIER_NAME']] = ['Caribbean Sun Airlines, Inc. d/b/a World Atlantic Airlines']"
   ]
  },
  {
   "cell_type": "code",
   "execution_count": 16,
   "id": "904f4290-0e7f-4723-b932-ca6dece2e8aa",
   "metadata": {},
   "outputs": [],
   "source": [
    "# determined from the lookup table 'L_CARRIER_HISTORY'\n",
    "df.loc[df['CARRIER'] == '2HQ', ['CARRIER_NAME']] = ['Elite Airways LLC']"
   ]
  },
  {
   "cell_type": "markdown",
   "id": "33a1e7c4",
   "metadata": {},
   "source": [
    "Similar approach is taken for `CARRIER_NAME` where `CARRIER` is used as reference and lookup table 'L_CARRIER_HISTORY' is used."
   ]
  },
  {
   "cell_type": "code",
   "execution_count": 17,
   "id": "6394e430-f5ef-42ed-a9b4-d97522a38c11",
   "metadata": {},
   "outputs": [
    {
     "data": {
      "text/plain": [
       "CARRIER_NAME\n",
       "North American Airlines    92\n",
       "Name: count, dtype: int64"
      ]
     },
     "execution_count": 17,
     "metadata": {},
     "output_type": "execute_result"
    }
   ],
   "source": [
    "df['CARRIER_NAME'][df['CARRIER'].isna()].value_counts()"
   ]
  },
  {
   "cell_type": "code",
   "execution_count": 18,
   "id": "28ec5d07-aa19-47dd-8f69-b37fe296e350",
   "metadata": {},
   "outputs": [],
   "source": [
    "# determined from the lookup table 'L_CARRIER_HISTORY'\n",
    "df.loc[df['CARRIER_NAME'] == 'North American Airlines', ['CARRIER']] = ['NA']"
   ]
  },
  {
   "cell_type": "markdown",
   "id": "26765a08",
   "metadata": {},
   "source": [
    "Inverse approach is taken for `CARRIER` where this time `CARRIER_NAME` is used as reference and lookup table 'L_CARRIER_HISTORY' is used."
   ]
  },
  {
   "cell_type": "code",
   "execution_count": 19,
   "id": "1aed0954-923a-49c2-8366-8be2161a2660",
   "metadata": {},
   "outputs": [
    {
     "data": {
      "text/plain": [
       "DEPARTURES_PERFORMED    0\n",
       "SEATS                   0\n",
       "PASSENGERS              0\n",
       "CARRIER                 0\n",
       "CARRIER_NAME            0\n",
       "ORIGIN_AIRPORT_ID       0\n",
       "ORIGIN_CITY_NAME        0\n",
       "ORIGIN_COUNTRY_NAME     0\n",
       "DEST_AIRPORT_ID         0\n",
       "DEST_CITY_NAME          0\n",
       "DEST_COUNTRY_NAME       0\n",
       "YEAR                    0\n",
       "MONTH                   0\n",
       "DATE                    0\n",
       "dtype: int64"
      ]
     },
     "execution_count": 19,
     "metadata": {},
     "output_type": "execute_result"
    }
   ],
   "source": [
    "df.isna().sum()"
   ]
  },
  {
   "cell_type": "markdown",
   "id": "61222e58",
   "metadata": {},
   "source": [
    "Now checking for null values, we can see all the null values are taken care of and also that our assumption about city and country was true.\n",
    "\n",
    "To clean up the dataset for EDA, it needs to be filtered and narrowed down according to the goal of this project. The ultimate goal is to forecast popular destinations outside of United States. The dataset is records of all scheduled non-stop flights in and out of United States. As there may have been scheduled flights that never happened or rescheduled due to some cancellation reasons, the dataset is filtered for completed commercial passenger flights. Also it is filtered for flights (travel) outbound from USA to international destinations."
   ]
  },
  {
   "cell_type": "code",
   "execution_count": 20,
   "id": "5fdb7f4a-e04e-4dab-b070-6428d54ea2b8",
   "metadata": {},
   "outputs": [
    {
     "data": {
      "text/html": [
       "<div>\n",
       "<style scoped>\n",
       "    .dataframe tbody tr th:only-of-type {\n",
       "        vertical-align: middle;\n",
       "    }\n",
       "\n",
       "    .dataframe tbody tr th {\n",
       "        vertical-align: top;\n",
       "    }\n",
       "\n",
       "    .dataframe thead th {\n",
       "        text-align: right;\n",
       "    }\n",
       "</style>\n",
       "<table border=\"1\" class=\"dataframe\">\n",
       "  <thead>\n",
       "    <tr style=\"text-align: right;\">\n",
       "      <th></th>\n",
       "      <th>DEPARTURES_PERFORMED</th>\n",
       "      <th>SEATS</th>\n",
       "      <th>PASSENGERS</th>\n",
       "      <th>CARRIER</th>\n",
       "      <th>CARRIER_NAME</th>\n",
       "      <th>ORIGIN_AIRPORT_ID</th>\n",
       "      <th>ORIGIN_CITY_NAME</th>\n",
       "      <th>ORIGIN_COUNTRY_NAME</th>\n",
       "      <th>DEST_AIRPORT_ID</th>\n",
       "      <th>DEST_CITY_NAME</th>\n",
       "      <th>DEST_COUNTRY_NAME</th>\n",
       "      <th>YEAR</th>\n",
       "      <th>MONTH</th>\n",
       "      <th>DATE</th>\n",
       "    </tr>\n",
       "  </thead>\n",
       "  <tbody>\n",
       "    <tr>\n",
       "      <th>3727</th>\n",
       "      <td>1.0</td>\n",
       "      <td>1.0</td>\n",
       "      <td>1.0</td>\n",
       "      <td>12Q</td>\n",
       "      <td>Unijet</td>\n",
       "      <td>14679</td>\n",
       "      <td>San Diego, CA</td>\n",
       "      <td>United States</td>\n",
       "      <td>12900</td>\n",
       "      <td>Paris, France</td>\n",
       "      <td>France</td>\n",
       "      <td>2013</td>\n",
       "      <td>4</td>\n",
       "      <td>2013-04-01</td>\n",
       "    </tr>\n",
       "    <tr>\n",
       "      <th>3735</th>\n",
       "      <td>1.0</td>\n",
       "      <td>2.0</td>\n",
       "      <td>2.0</td>\n",
       "      <td>KAH</td>\n",
       "      <td>Kenmore Air Harbor</td>\n",
       "      <td>12652</td>\n",
       "      <td>Kenmore, WA</td>\n",
       "      <td>United States</td>\n",
       "      <td>16263</td>\n",
       "      <td>Victoria, Canada</td>\n",
       "      <td>Canada</td>\n",
       "      <td>2013</td>\n",
       "      <td>10</td>\n",
       "      <td>2013-10-01</td>\n",
       "    </tr>\n",
       "    <tr>\n",
       "      <th>3736</th>\n",
       "      <td>1.0</td>\n",
       "      <td>2.0</td>\n",
       "      <td>2.0</td>\n",
       "      <td>KAH</td>\n",
       "      <td>Kenmore Air Harbor</td>\n",
       "      <td>12652</td>\n",
       "      <td>Kenmore, WA</td>\n",
       "      <td>United States</td>\n",
       "      <td>16263</td>\n",
       "      <td>Victoria, Canada</td>\n",
       "      <td>Canada</td>\n",
       "      <td>2013</td>\n",
       "      <td>11</td>\n",
       "      <td>2013-11-01</td>\n",
       "    </tr>\n",
       "    <tr>\n",
       "      <th>3737</th>\n",
       "      <td>1.0</td>\n",
       "      <td>4.0</td>\n",
       "      <td>1.0</td>\n",
       "      <td>04Q</td>\n",
       "      <td>Tradewind Aviation</td>\n",
       "      <td>12197</td>\n",
       "      <td>White Plains, NY</td>\n",
       "      <td>United States</td>\n",
       "      <td>16215</td>\n",
       "      <td>Toronto, Canada</td>\n",
       "      <td>Canada</td>\n",
       "      <td>2013</td>\n",
       "      <td>2</td>\n",
       "      <td>2013-02-01</td>\n",
       "    </tr>\n",
       "    <tr>\n",
       "      <th>3739</th>\n",
       "      <td>1.0</td>\n",
       "      <td>4.0</td>\n",
       "      <td>2.0</td>\n",
       "      <td>KAH</td>\n",
       "      <td>Kenmore Air Harbor</td>\n",
       "      <td>13002</td>\n",
       "      <td>Seattle, WA</td>\n",
       "      <td>United States</td>\n",
       "      <td>16263</td>\n",
       "      <td>Victoria, Canada</td>\n",
       "      <td>Canada</td>\n",
       "      <td>2013</td>\n",
       "      <td>5</td>\n",
       "      <td>2013-05-01</td>\n",
       "    </tr>\n",
       "  </tbody>\n",
       "</table>\n",
       "</div>"
      ],
      "text/plain": [
       "      DEPARTURES_PERFORMED  SEATS  PASSENGERS CARRIER        CARRIER_NAME  \\\n",
       "3727                   1.0    1.0         1.0     12Q              Unijet   \n",
       "3735                   1.0    2.0         2.0     KAH  Kenmore Air Harbor   \n",
       "3736                   1.0    2.0         2.0     KAH  Kenmore Air Harbor   \n",
       "3737                   1.0    4.0         1.0     04Q  Tradewind Aviation   \n",
       "3739                   1.0    4.0         2.0     KAH  Kenmore Air Harbor   \n",
       "\n",
       "      ORIGIN_AIRPORT_ID  ORIGIN_CITY_NAME ORIGIN_COUNTRY_NAME  \\\n",
       "3727              14679     San Diego, CA       United States   \n",
       "3735              12652       Kenmore, WA       United States   \n",
       "3736              12652       Kenmore, WA       United States   \n",
       "3737              12197  White Plains, NY       United States   \n",
       "3739              13002       Seattle, WA       United States   \n",
       "\n",
       "      DEST_AIRPORT_ID    DEST_CITY_NAME DEST_COUNTRY_NAME  YEAR  MONTH  \\\n",
       "3727            12900     Paris, France            France  2013      4   \n",
       "3735            16263  Victoria, Canada            Canada  2013     10   \n",
       "3736            16263  Victoria, Canada            Canada  2013     11   \n",
       "3737            16215   Toronto, Canada            Canada  2013      2   \n",
       "3739            16263  Victoria, Canada            Canada  2013      5   \n",
       "\n",
       "           DATE  \n",
       "3727 2013-04-01  \n",
       "3735 2013-10-01  \n",
       "3736 2013-11-01  \n",
       "3737 2013-02-01  \n",
       "3739 2013-05-01  "
      ]
     },
     "execution_count": 20,
     "metadata": {},
     "output_type": "execute_result"
    }
   ],
   "source": [
    "# destinations outside of USA and completed commercial passenger flight\n",
    "df_air = df[(df['DEST_COUNTRY_NAME'] != 'United States') & (df['DEPARTURES_PERFORMED'] > 0) & (df['SEATS'] > 0) & (df['PASSENGERS'] > 0)]\n",
    "df_air.head()"
   ]
  },
  {
   "cell_type": "code",
   "execution_count": 21,
   "id": "7c4e9254-f54c-456c-b1f2-0791b121801f",
   "metadata": {},
   "outputs": [
    {
     "data": {
      "text/plain": [
       "DEST_COUNTRY_NAME\n",
       "Canada                74976\n",
       "Mexico                74043\n",
       "United Kingdom        19820\n",
       "Dominican Republic    14347\n",
       "The Bahamas           12765\n",
       "                      ...  \n",
       "Tanzania                  1\n",
       "Laos                      1\n",
       "Macedonia                 1\n",
       "Armenia                   1\n",
       "Mauritania                1\n",
       "Name: count, Length: 171, dtype: int64"
      ]
     },
     "execution_count": 21,
     "metadata": {},
     "output_type": "execute_result"
    }
   ],
   "source": [
    "df_air['DEST_COUNTRY_NAME'].value_counts()"
   ]
  },
  {
   "cell_type": "markdown",
   "id": "74b5cd44",
   "metadata": {},
   "source": [
    "Looking at the unique count of destinations outside of United States, there were flights to 171 different destinations from Jan 2013 to May 2024. <br>\n",
    "\n",
    "Final part of the data cleanup is taking care of duplicate data."
   ]
  },
  {
   "cell_type": "code",
   "execution_count": 22,
   "id": "853530f2-b64d-433a-9ce4-d54b2089b359",
   "metadata": {},
   "outputs": [
    {
     "data": {
      "text/plain": [
       "39"
      ]
     },
     "execution_count": 22,
     "metadata": {},
     "output_type": "execute_result"
    }
   ],
   "source": [
    "# check for duplicate data\n",
    "df_air.duplicated().sum()"
   ]
  },
  {
   "cell_type": "code",
   "execution_count": 23,
   "id": "d6d56d56-69c9-4e4a-adca-a17d108f6c31",
   "metadata": {
    "scrolled": true
   },
   "outputs": [
    {
     "data": {
      "text/html": [
       "<div>\n",
       "<style scoped>\n",
       "    .dataframe tbody tr th:only-of-type {\n",
       "        vertical-align: middle;\n",
       "    }\n",
       "\n",
       "    .dataframe tbody tr th {\n",
       "        vertical-align: top;\n",
       "    }\n",
       "\n",
       "    .dataframe thead th {\n",
       "        text-align: right;\n",
       "    }\n",
       "</style>\n",
       "<table border=\"1\" class=\"dataframe\">\n",
       "  <thead>\n",
       "    <tr style=\"text-align: right;\">\n",
       "      <th></th>\n",
       "      <th>DEPARTURES_PERFORMED</th>\n",
       "      <th>SEATS</th>\n",
       "      <th>PASSENGERS</th>\n",
       "      <th>CARRIER</th>\n",
       "      <th>CARRIER_NAME</th>\n",
       "      <th>ORIGIN_AIRPORT_ID</th>\n",
       "      <th>ORIGIN_CITY_NAME</th>\n",
       "      <th>ORIGIN_COUNTRY_NAME</th>\n",
       "      <th>DEST_AIRPORT_ID</th>\n",
       "      <th>DEST_CITY_NAME</th>\n",
       "      <th>DEST_COUNTRY_NAME</th>\n",
       "      <th>YEAR</th>\n",
       "      <th>MONTH</th>\n",
       "      <th>DATE</th>\n",
       "    </tr>\n",
       "  </thead>\n",
       "  <tbody>\n",
       "    <tr>\n",
       "      <th>79301</th>\n",
       "      <td>1.0</td>\n",
       "      <td>2.0</td>\n",
       "      <td>2.0</td>\n",
       "      <td>KAH</td>\n",
       "      <td>Kenmore Air Harbor</td>\n",
       "      <td>13002</td>\n",
       "      <td>Seattle, WA</td>\n",
       "      <td>United States</td>\n",
       "      <td>16310</td>\n",
       "      <td>Nanaimo, Canada</td>\n",
       "      <td>Canada</td>\n",
       "      <td>2014</td>\n",
       "      <td>9</td>\n",
       "      <td>2014-09-01</td>\n",
       "    </tr>\n",
       "    <tr>\n",
       "      <th>79302</th>\n",
       "      <td>1.0</td>\n",
       "      <td>2.0</td>\n",
       "      <td>2.0</td>\n",
       "      <td>KAH</td>\n",
       "      <td>Kenmore Air Harbor</td>\n",
       "      <td>13002</td>\n",
       "      <td>Seattle, WA</td>\n",
       "      <td>United States</td>\n",
       "      <td>16310</td>\n",
       "      <td>Nanaimo, Canada</td>\n",
       "      <td>Canada</td>\n",
       "      <td>2014</td>\n",
       "      <td>9</td>\n",
       "      <td>2014-09-01</td>\n",
       "    </tr>\n",
       "    <tr>\n",
       "      <th>158385</th>\n",
       "      <td>1.0</td>\n",
       "      <td>2.0</td>\n",
       "      <td>2.0</td>\n",
       "      <td>KAH</td>\n",
       "      <td>Kenmore Air Harbor</td>\n",
       "      <td>13002</td>\n",
       "      <td>Seattle, WA</td>\n",
       "      <td>United States</td>\n",
       "      <td>16233</td>\n",
       "      <td>Victoria, Canada</td>\n",
       "      <td>Canada</td>\n",
       "      <td>2015</td>\n",
       "      <td>3</td>\n",
       "      <td>2015-03-01</td>\n",
       "    </tr>\n",
       "    <tr>\n",
       "      <th>158386</th>\n",
       "      <td>1.0</td>\n",
       "      <td>2.0</td>\n",
       "      <td>2.0</td>\n",
       "      <td>KAH</td>\n",
       "      <td>Kenmore Air Harbor</td>\n",
       "      <td>13002</td>\n",
       "      <td>Seattle, WA</td>\n",
       "      <td>United States</td>\n",
       "      <td>16233</td>\n",
       "      <td>Victoria, Canada</td>\n",
       "      <td>Canada</td>\n",
       "      <td>2015</td>\n",
       "      <td>3</td>\n",
       "      <td>2015-03-01</td>\n",
       "    </tr>\n",
       "    <tr>\n",
       "      <th>158497</th>\n",
       "      <td>1.0</td>\n",
       "      <td>6.0</td>\n",
       "      <td>4.0</td>\n",
       "      <td>KAH</td>\n",
       "      <td>Kenmore Air Harbor</td>\n",
       "      <td>12652</td>\n",
       "      <td>Kenmore, WA</td>\n",
       "      <td>United States</td>\n",
       "      <td>16233</td>\n",
       "      <td>Victoria, Canada</td>\n",
       "      <td>Canada</td>\n",
       "      <td>2015</td>\n",
       "      <td>8</td>\n",
       "      <td>2015-08-01</td>\n",
       "    </tr>\n",
       "    <tr>\n",
       "      <th>...</th>\n",
       "      <td>...</td>\n",
       "      <td>...</td>\n",
       "      <td>...</td>\n",
       "      <td>...</td>\n",
       "      <td>...</td>\n",
       "      <td>...</td>\n",
       "      <td>...</td>\n",
       "      <td>...</td>\n",
       "      <td>...</td>\n",
       "      <td>...</td>\n",
       "      <td>...</td>\n",
       "      <td>...</td>\n",
       "      <td>...</td>\n",
       "      <td>...</td>\n",
       "    </tr>\n",
       "    <tr>\n",
       "      <th>873869</th>\n",
       "      <td>4.0</td>\n",
       "      <td>972.0</td>\n",
       "      <td>864.0</td>\n",
       "      <td>LA</td>\n",
       "      <td>Lan-Chile Airlines</td>\n",
       "      <td>12478</td>\n",
       "      <td>New York, NY</td>\n",
       "      <td>United States</td>\n",
       "      <td>12986</td>\n",
       "      <td>Lima, Peru</td>\n",
       "      <td>Peru</td>\n",
       "      <td>2023</td>\n",
       "      <td>10</td>\n",
       "      <td>2023-10-01</td>\n",
       "    </tr>\n",
       "    <tr>\n",
       "      <th>919918</th>\n",
       "      <td>31.0</td>\n",
       "      <td>5332.0</td>\n",
       "      <td>4495.0</td>\n",
       "      <td>AA</td>\n",
       "      <td>American Airlines Inc.</td>\n",
       "      <td>13303</td>\n",
       "      <td>Miami, FL</td>\n",
       "      <td>United States</td>\n",
       "      <td>10411</td>\n",
       "      <td>Aruba, Aruba</td>\n",
       "      <td>Aruba</td>\n",
       "      <td>2023</td>\n",
       "      <td>3</td>\n",
       "      <td>2023-03-01</td>\n",
       "    </tr>\n",
       "    <tr>\n",
       "      <th>919919</th>\n",
       "      <td>31.0</td>\n",
       "      <td>5332.0</td>\n",
       "      <td>4495.0</td>\n",
       "      <td>AA</td>\n",
       "      <td>American Airlines Inc.</td>\n",
       "      <td>13303</td>\n",
       "      <td>Miami, FL</td>\n",
       "      <td>United States</td>\n",
       "      <td>10411</td>\n",
       "      <td>Aruba, Aruba</td>\n",
       "      <td>Aruba</td>\n",
       "      <td>2023</td>\n",
       "      <td>3</td>\n",
       "      <td>2023-03-01</td>\n",
       "    </tr>\n",
       "    <tr>\n",
       "      <th>921591</th>\n",
       "      <td>31.0</td>\n",
       "      <td>8184.0</td>\n",
       "      <td>7169.0</td>\n",
       "      <td>SQ</td>\n",
       "      <td>Singapore Airlines Ltd.</td>\n",
       "      <td>12892</td>\n",
       "      <td>Los Angeles, CA</td>\n",
       "      <td>United States</td>\n",
       "      <td>13744</td>\n",
       "      <td>Tokyo, Japan</td>\n",
       "      <td>Japan</td>\n",
       "      <td>2023</td>\n",
       "      <td>3</td>\n",
       "      <td>2023-03-01</td>\n",
       "    </tr>\n",
       "    <tr>\n",
       "      <th>921592</th>\n",
       "      <td>31.0</td>\n",
       "      <td>8184.0</td>\n",
       "      <td>7169.0</td>\n",
       "      <td>SQ</td>\n",
       "      <td>Singapore Airlines Ltd.</td>\n",
       "      <td>12892</td>\n",
       "      <td>Los Angeles, CA</td>\n",
       "      <td>United States</td>\n",
       "      <td>13744</td>\n",
       "      <td>Tokyo, Japan</td>\n",
       "      <td>Japan</td>\n",
       "      <td>2023</td>\n",
       "      <td>3</td>\n",
       "      <td>2023-03-01</td>\n",
       "    </tr>\n",
       "  </tbody>\n",
       "</table>\n",
       "<p>78 rows × 14 columns</p>\n",
       "</div>"
      ],
      "text/plain": [
       "        DEPARTURES_PERFORMED   SEATS  PASSENGERS CARRIER  \\\n",
       "79301                    1.0     2.0         2.0     KAH   \n",
       "79302                    1.0     2.0         2.0     KAH   \n",
       "158385                   1.0     2.0         2.0     KAH   \n",
       "158386                   1.0     2.0         2.0     KAH   \n",
       "158497                   1.0     6.0         4.0     KAH   \n",
       "...                      ...     ...         ...     ...   \n",
       "873869                   4.0   972.0       864.0      LA   \n",
       "919918                  31.0  5332.0      4495.0      AA   \n",
       "919919                  31.0  5332.0      4495.0      AA   \n",
       "921591                  31.0  8184.0      7169.0      SQ   \n",
       "921592                  31.0  8184.0      7169.0      SQ   \n",
       "\n",
       "                   CARRIER_NAME  ORIGIN_AIRPORT_ID ORIGIN_CITY_NAME  \\\n",
       "79301        Kenmore Air Harbor              13002      Seattle, WA   \n",
       "79302        Kenmore Air Harbor              13002      Seattle, WA   \n",
       "158385       Kenmore Air Harbor              13002      Seattle, WA   \n",
       "158386       Kenmore Air Harbor              13002      Seattle, WA   \n",
       "158497       Kenmore Air Harbor              12652      Kenmore, WA   \n",
       "...                         ...                ...              ...   \n",
       "873869       Lan-Chile Airlines              12478     New York, NY   \n",
       "919918   American Airlines Inc.              13303        Miami, FL   \n",
       "919919   American Airlines Inc.              13303        Miami, FL   \n",
       "921591  Singapore Airlines Ltd.              12892  Los Angeles, CA   \n",
       "921592  Singapore Airlines Ltd.              12892  Los Angeles, CA   \n",
       "\n",
       "       ORIGIN_COUNTRY_NAME  DEST_AIRPORT_ID    DEST_CITY_NAME  \\\n",
       "79301        United States            16310   Nanaimo, Canada   \n",
       "79302        United States            16310   Nanaimo, Canada   \n",
       "158385       United States            16233  Victoria, Canada   \n",
       "158386       United States            16233  Victoria, Canada   \n",
       "158497       United States            16233  Victoria, Canada   \n",
       "...                    ...              ...               ...   \n",
       "873869       United States            12986        Lima, Peru   \n",
       "919918       United States            10411      Aruba, Aruba   \n",
       "919919       United States            10411      Aruba, Aruba   \n",
       "921591       United States            13744      Tokyo, Japan   \n",
       "921592       United States            13744      Tokyo, Japan   \n",
       "\n",
       "       DEST_COUNTRY_NAME  YEAR  MONTH       DATE  \n",
       "79301             Canada  2014      9 2014-09-01  \n",
       "79302             Canada  2014      9 2014-09-01  \n",
       "158385            Canada  2015      3 2015-03-01  \n",
       "158386            Canada  2015      3 2015-03-01  \n",
       "158497            Canada  2015      8 2015-08-01  \n",
       "...                  ...   ...    ...        ...  \n",
       "873869              Peru  2023     10 2023-10-01  \n",
       "919918             Aruba  2023      3 2023-03-01  \n",
       "919919             Aruba  2023      3 2023-03-01  \n",
       "921591             Japan  2023      3 2023-03-01  \n",
       "921592             Japan  2023      3 2023-03-01  \n",
       "\n",
       "[78 rows x 14 columns]"
      ]
     },
     "execution_count": 23,
     "metadata": {},
     "output_type": "execute_result"
    }
   ],
   "source": [
    "# view the duplicate data\n",
    "df_air[df_air.duplicated(keep=False)]"
   ]
  },
  {
   "cell_type": "markdown",
   "id": "77b52b8f",
   "metadata": {},
   "source": [
    "There are 39 duplicated data and looking through them they can simply be dropped."
   ]
  },
  {
   "cell_type": "code",
   "execution_count": 24,
   "id": "6619444e-976a-4a44-ab4f-6508c5c68dc3",
   "metadata": {},
   "outputs": [
    {
     "data": {
      "text/plain": [
       "0"
      ]
     },
     "execution_count": 24,
     "metadata": {},
     "output_type": "execute_result"
    }
   ],
   "source": [
    "# drop duplicate data and verify\n",
    "df_air = df_air.drop_duplicates()\n",
    "df_air.duplicated().sum()"
   ]
  },
  {
   "cell_type": "markdown",
   "id": "22a33fd6",
   "metadata": {},
   "source": [
    "Now that null values and duplicate data are dealt with and the database is modified in tune for EDA, last thing to do is sort the dataframe by date."
   ]
  },
  {
   "cell_type": "code",
   "execution_count": 25,
   "id": "8346a4f9-c2fd-4605-9dad-9b2449d6a9b6",
   "metadata": {},
   "outputs": [],
   "source": [
    "# sort date ascending\n",
    "df_air.sort_values(by='DATE', inplace=True)\n",
    "# reset the index after the sort\n",
    "df_air.reset_index(drop=True, inplace=True)"
   ]
  },
  {
   "cell_type": "code",
   "execution_count": 30,
   "id": "7bb48b1c-573d-42dc-9917-dc73ae0700d8",
   "metadata": {},
   "outputs": [
    {
     "name": "stdout",
     "output_type": "stream",
     "text": [
      "<class 'pandas.core.frame.DataFrame'>\n",
      "RangeIndex: 390469 entries, 0 to 390468\n",
      "Data columns (total 14 columns):\n",
      " #   Column                Non-Null Count   Dtype         \n",
      "---  ------                --------------   -----         \n",
      " 0   DEPARTURES_PERFORMED  390469 non-null  float64       \n",
      " 1   SEATS                 390469 non-null  float64       \n",
      " 2   PASSENGERS            390469 non-null  float64       \n",
      " 3   CARRIER               390469 non-null  object        \n",
      " 4   CARRIER_NAME          390469 non-null  object        \n",
      " 5   ORIGIN_AIRPORT_ID     390469 non-null  int64         \n",
      " 6   ORIGIN_CITY_NAME      390469 non-null  object        \n",
      " 7   ORIGIN_COUNTRY_NAME   390469 non-null  object        \n",
      " 8   DEST_AIRPORT_ID       390469 non-null  int64         \n",
      " 9   DEST_CITY_NAME        390469 non-null  object        \n",
      " 10  DEST_COUNTRY_NAME     390469 non-null  object        \n",
      " 11  YEAR                  390469 non-null  int64         \n",
      " 12  MONTH                 390469 non-null  int64         \n",
      " 13  DATE                  390469 non-null  datetime64[ns]\n",
      "dtypes: datetime64[ns](1), float64(3), int64(4), object(6)\n",
      "memory usage: 41.7+ MB\n",
      "None\n"
     ]
    },
    {
     "data": {
      "text/html": [
       "<div>\n",
       "<style scoped>\n",
       "    .dataframe tbody tr th:only-of-type {\n",
       "        vertical-align: middle;\n",
       "    }\n",
       "\n",
       "    .dataframe tbody tr th {\n",
       "        vertical-align: top;\n",
       "    }\n",
       "\n",
       "    .dataframe thead th {\n",
       "        text-align: right;\n",
       "    }\n",
       "</style>\n",
       "<table border=\"1\" class=\"dataframe\">\n",
       "  <thead>\n",
       "    <tr style=\"text-align: right;\">\n",
       "      <th></th>\n",
       "      <th>DEPARTURES_PERFORMED</th>\n",
       "      <th>SEATS</th>\n",
       "      <th>PASSENGERS</th>\n",
       "      <th>CARRIER</th>\n",
       "      <th>CARRIER_NAME</th>\n",
       "      <th>ORIGIN_AIRPORT_ID</th>\n",
       "      <th>ORIGIN_CITY_NAME</th>\n",
       "      <th>ORIGIN_COUNTRY_NAME</th>\n",
       "      <th>DEST_AIRPORT_ID</th>\n",
       "      <th>DEST_CITY_NAME</th>\n",
       "      <th>DEST_COUNTRY_NAME</th>\n",
       "      <th>YEAR</th>\n",
       "      <th>MONTH</th>\n",
       "      <th>DATE</th>\n",
       "    </tr>\n",
       "  </thead>\n",
       "  <tbody>\n",
       "    <tr>\n",
       "      <th>390464</th>\n",
       "      <td>4.0</td>\n",
       "      <td>744.0</td>\n",
       "      <td>604.0</td>\n",
       "      <td>G4</td>\n",
       "      <td>Allegiant Air</td>\n",
       "      <td>14122</td>\n",
       "      <td>Pittsburgh, PA</td>\n",
       "      <td>United States</td>\n",
       "      <td>11032</td>\n",
       "      <td>Cancun, Mexico</td>\n",
       "      <td>Mexico</td>\n",
       "      <td>2024</td>\n",
       "      <td>5</td>\n",
       "      <td>2024-05-01</td>\n",
       "    </tr>\n",
       "    <tr>\n",
       "      <th>390465</th>\n",
       "      <td>30.0</td>\n",
       "      <td>10500.0</td>\n",
       "      <td>5687.0</td>\n",
       "      <td>UA</td>\n",
       "      <td>United Air Lines Inc.</td>\n",
       "      <td>14771</td>\n",
       "      <td>San Francisco, CA</td>\n",
       "      <td>United States</td>\n",
       "      <td>15092</td>\n",
       "      <td>Sydney, Australia</td>\n",
       "      <td>Australia</td>\n",
       "      <td>2024</td>\n",
       "      <td>5</td>\n",
       "      <td>2024-05-01</td>\n",
       "    </tr>\n",
       "    <tr>\n",
       "      <th>390466</th>\n",
       "      <td>4.0</td>\n",
       "      <td>744.0</td>\n",
       "      <td>727.0</td>\n",
       "      <td>SY</td>\n",
       "      <td>Sun Country Airlines d/b/a MN Airlines</td>\n",
       "      <td>14683</td>\n",
       "      <td>San Antonio, TX</td>\n",
       "      <td>United States</td>\n",
       "      <td>11032</td>\n",
       "      <td>Cancun, Mexico</td>\n",
       "      <td>Mexico</td>\n",
       "      <td>2024</td>\n",
       "      <td>5</td>\n",
       "      <td>2024-05-01</td>\n",
       "    </tr>\n",
       "    <tr>\n",
       "      <th>390467</th>\n",
       "      <td>30.0</td>\n",
       "      <td>10500.0</td>\n",
       "      <td>9405.0</td>\n",
       "      <td>UA</td>\n",
       "      <td>United Air Lines Inc.</td>\n",
       "      <td>12264</td>\n",
       "      <td>Washington, DC</td>\n",
       "      <td>United States</td>\n",
       "      <td>11760</td>\n",
       "      <td>Frankfurt, Germany</td>\n",
       "      <td>Germany</td>\n",
       "      <td>2024</td>\n",
       "      <td>5</td>\n",
       "      <td>2024-05-01</td>\n",
       "    </tr>\n",
       "    <tr>\n",
       "      <th>390468</th>\n",
       "      <td>4.0</td>\n",
       "      <td>636.0</td>\n",
       "      <td>563.0</td>\n",
       "      <td>B6</td>\n",
       "      <td>JetBlue Airways</td>\n",
       "      <td>12478</td>\n",
       "      <td>New York, NY</td>\n",
       "      <td>United States</td>\n",
       "      <td>12990</td>\n",
       "      <td>Liberia, Costa Rica</td>\n",
       "      <td>Costa Rica</td>\n",
       "      <td>2024</td>\n",
       "      <td>5</td>\n",
       "      <td>2024-05-01</td>\n",
       "    </tr>\n",
       "  </tbody>\n",
       "</table>\n",
       "</div>"
      ],
      "text/plain": [
       "        DEPARTURES_PERFORMED    SEATS  PASSENGERS CARRIER  \\\n",
       "390464                   4.0    744.0       604.0      G4   \n",
       "390465                  30.0  10500.0      5687.0      UA   \n",
       "390466                   4.0    744.0       727.0      SY   \n",
       "390467                  30.0  10500.0      9405.0      UA   \n",
       "390468                   4.0    636.0       563.0      B6   \n",
       "\n",
       "                                  CARRIER_NAME  ORIGIN_AIRPORT_ID  \\\n",
       "390464                           Allegiant Air              14122   \n",
       "390465                   United Air Lines Inc.              14771   \n",
       "390466  Sun Country Airlines d/b/a MN Airlines              14683   \n",
       "390467                   United Air Lines Inc.              12264   \n",
       "390468                         JetBlue Airways              12478   \n",
       "\n",
       "         ORIGIN_CITY_NAME ORIGIN_COUNTRY_NAME  DEST_AIRPORT_ID  \\\n",
       "390464     Pittsburgh, PA       United States            11032   \n",
       "390465  San Francisco, CA       United States            15092   \n",
       "390466    San Antonio, TX       United States            11032   \n",
       "390467     Washington, DC       United States            11760   \n",
       "390468       New York, NY       United States            12990   \n",
       "\n",
       "             DEST_CITY_NAME DEST_COUNTRY_NAME  YEAR  MONTH       DATE  \n",
       "390464       Cancun, Mexico            Mexico  2024      5 2024-05-01  \n",
       "390465    Sydney, Australia         Australia  2024      5 2024-05-01  \n",
       "390466       Cancun, Mexico            Mexico  2024      5 2024-05-01  \n",
       "390467   Frankfurt, Germany           Germany  2024      5 2024-05-01  \n",
       "390468  Liberia, Costa Rica        Costa Rica  2024      5 2024-05-01  "
      ]
     },
     "execution_count": 30,
     "metadata": {},
     "output_type": "execute_result"
    }
   ],
   "source": [
    "# verify sort and index reset\n",
    "print(df_air.info())\n",
    "df_air.tail()"
   ]
  },
  {
   "cell_type": "markdown",
   "id": "5d7ba8b8",
   "metadata": {},
   "source": [
    "### Conclusion\n",
    "Dataframe is sorted by date, contains no null or duplicated data, and ready for EDA. The cleaned dataset can be exported."
   ]
  },
  {
   "cell_type": "markdown",
   "id": "8f2ec582",
   "metadata": {},
   "source": [
    "### Export Files"
   ]
  },
  {
   "cell_type": "code",
   "execution_count": 28,
   "id": "6bdeed29-a2af-413b-9f7e-354d98126664",
   "metadata": {},
   "outputs": [],
   "source": [
    "# export cleaned dataset\n",
    "df_air.to_csv('capstone_data_cleaned.csv', index=False) # makes it not save an index col"
   ]
  }
 ],
 "metadata": {
  "kernelspec": {
   "display_name": "Python 3 (ipykernel)",
   "language": "python",
   "name": "python3"
  },
  "language_info": {
   "codemirror_mode": {
    "name": "ipython",
    "version": 3
   },
   "file_extension": ".py",
   "mimetype": "text/x-python",
   "name": "python",
   "nbconvert_exporter": "python",
   "pygments_lexer": "ipython3",
   "version": "3.11.7"
  }
 },
 "nbformat": 4,
 "nbformat_minor": 5
}
